{
 "cells": [
  {
   "cell_type": "code",
   "execution_count": 5,
   "id": "98fbe969",
   "metadata": {},
   "outputs": [
    {
     "name": "stdout",
     "output_type": "stream",
     "text": [
      "Requirement already satisfied: yfinance in c:\\users\\ayu\\stockprediction\\.venv\\lib\\site-packages (0.2.58)\n",
      "Requirement already satisfied: pandas in c:\\users\\ayu\\stockprediction\\.venv\\lib\\site-packages (2.2.3)\n",
      "Requirement already satisfied: numpy in c:\\users\\ayu\\stockprediction\\.venv\\lib\\site-packages (2.1.3)\n",
      "Requirement already satisfied: matplotlib in c:\\users\\ayu\\stockprediction\\.venv\\lib\\site-packages (3.10.1)\n",
      "Requirement already satisfied: seaborn in c:\\users\\ayu\\stockprediction\\.venv\\lib\\site-packages (0.13.2)\n",
      "Requirement already satisfied: nltk in c:\\users\\ayu\\stockprediction\\.venv\\lib\\site-packages (3.9.1)\n",
      "Requirement already satisfied: textblob in c:\\users\\ayu\\stockprediction\\.venv\\lib\\site-packages (0.19.0)\n",
      "Requirement already satisfied: tensorflow in c:\\users\\ayu\\stockprediction\\.venv\\lib\\site-packages (2.19.0)\n",
      "Requirement already satisfied: scikit-learn in c:\\users\\ayu\\stockprediction\\.venv\\lib\\site-packages (1.6.1)\n",
      "Requirement already satisfied: newsapi-python in c:\\users\\ayu\\stockprediction\\.venv\\lib\\site-packages (0.2.7)\n",
      "Requirement already satisfied: yahoo_fin in c:\\users\\ayu\\stockprediction\\.venv\\lib\\site-packages (0.8.9.1)\n",
      "Requirement already satisfied: GoogleNews in c:\\users\\ayu\\stockprediction\\.venv\\lib\\site-packages (1.6.15)\n",
      "Collecting ta\n",
      "  Downloading ta-0.11.0.tar.gz (25 kB)\n",
      "  Preparing metadata (setup.py): started\n",
      "  Preparing metadata (setup.py): finished with status 'done'\n",
      "Requirement already satisfied: requests>=2.31 in c:\\users\\ayu\\stockprediction\\.venv\\lib\\site-packages (from yfinance) (2.32.3)\n",
      "Requirement already satisfied: multitasking>=0.0.7 in c:\\users\\ayu\\stockprediction\\.venv\\lib\\site-packages (from yfinance) (0.0.11)\n",
      "Requirement already satisfied: platformdirs>=2.0.0 in c:\\users\\ayu\\stockprediction\\.venv\\lib\\site-packages (from yfinance) (4.3.7)\n",
      "Requirement already satisfied: pytz>=2022.5 in c:\\users\\ayu\\stockprediction\\.venv\\lib\\site-packages (from yfinance) (2025.2)\n",
      "Requirement already satisfied: frozendict>=2.3.4 in c:\\users\\ayu\\stockprediction\\.venv\\lib\\site-packages (from yfinance) (2.4.6)\n",
      "Requirement already satisfied: peewee>=3.16.2 in c:\\users\\ayu\\stockprediction\\.venv\\lib\\site-packages (from yfinance) (3.18.1)\n",
      "Requirement already satisfied: beautifulsoup4>=4.11.1 in c:\\users\\ayu\\stockprediction\\.venv\\lib\\site-packages (from yfinance) (4.13.4)\n",
      "Requirement already satisfied: curl_cffi>=0.7 in c:\\users\\ayu\\stockprediction\\.venv\\lib\\site-packages (from yfinance) (0.10.0)\n",
      "Requirement already satisfied: python-dateutil>=2.8.2 in c:\\users\\ayu\\stockprediction\\.venv\\lib\\site-packages (from pandas) (2.9.0.post0)\n",
      "Requirement already satisfied: tzdata>=2022.7 in c:\\users\\ayu\\stockprediction\\.venv\\lib\\site-packages (from pandas) (2025.2)\n",
      "Requirement already satisfied: contourpy>=1.0.1 in c:\\users\\ayu\\stockprediction\\.venv\\lib\\site-packages (from matplotlib) (1.3.2)\n",
      "Requirement already satisfied: cycler>=0.10 in c:\\users\\ayu\\stockprediction\\.venv\\lib\\site-packages (from matplotlib) (0.12.1)\n",
      "Requirement already satisfied: fonttools>=4.22.0 in c:\\users\\ayu\\stockprediction\\.venv\\lib\\site-packages (from matplotlib) (4.57.0)\n",
      "Requirement already satisfied: kiwisolver>=1.3.1 in c:\\users\\ayu\\stockprediction\\.venv\\lib\\site-packages (from matplotlib) (1.4.8)\n",
      "Requirement already satisfied: packaging>=20.0 in c:\\users\\ayu\\stockprediction\\.venv\\lib\\site-packages (from matplotlib) (25.0)\n",
      "Requirement already satisfied: pillow>=8 in c:\\users\\ayu\\stockprediction\\.venv\\lib\\site-packages (from matplotlib) (11.2.1)\n",
      "Requirement already satisfied: pyparsing>=2.3.1 in c:\\users\\ayu\\stockprediction\\.venv\\lib\\site-packages (from matplotlib) (3.2.3)\n",
      "Requirement already satisfied: click in c:\\users\\ayu\\stockprediction\\.venv\\lib\\site-packages (from nltk) (8.1.8)\n",
      "Requirement already satisfied: joblib in c:\\users\\ayu\\stockprediction\\.venv\\lib\\site-packages (from nltk) (1.5.0)\n",
      "Requirement already satisfied: regex>=2021.8.3 in c:\\users\\ayu\\stockprediction\\.venv\\lib\\site-packages (from nltk) (2024.11.6)\n",
      "Requirement already satisfied: tqdm in c:\\users\\ayu\\stockprediction\\.venv\\lib\\site-packages (from nltk) (4.67.1)\n",
      "Requirement already satisfied: absl-py>=1.0.0 in c:\\users\\ayu\\stockprediction\\.venv\\lib\\site-packages (from tensorflow) (2.2.2)\n",
      "Requirement already satisfied: astunparse>=1.6.0 in c:\\users\\ayu\\stockprediction\\.venv\\lib\\site-packages (from tensorflow) (1.6.3)\n",
      "Requirement already satisfied: flatbuffers>=24.3.25 in c:\\users\\ayu\\stockprediction\\.venv\\lib\\site-packages (from tensorflow) (25.2.10)\n",
      "Requirement already satisfied: gast!=0.5.0,!=0.5.1,!=0.5.2,>=0.2.1 in c:\\users\\ayu\\stockprediction\\.venv\\lib\\site-packages (from tensorflow) (0.6.0)\n",
      "Requirement already satisfied: google-pasta>=0.1.1 in c:\\users\\ayu\\stockprediction\\.venv\\lib\\site-packages (from tensorflow) (0.2.0)\n",
      "Requirement already satisfied: libclang>=13.0.0 in c:\\users\\ayu\\stockprediction\\.venv\\lib\\site-packages (from tensorflow) (18.1.1)\n",
      "Requirement already satisfied: opt-einsum>=2.3.2 in c:\\users\\ayu\\stockprediction\\.venv\\lib\\site-packages (from tensorflow) (3.4.0)\n",
      "Requirement already satisfied: protobuf!=4.21.0,!=4.21.1,!=4.21.2,!=4.21.3,!=4.21.4,!=4.21.5,<6.0.0dev,>=3.20.3 in c:\\users\\ayu\\stockprediction\\.venv\\lib\\site-packages (from tensorflow) (5.29.4)\n",
      "Requirement already satisfied: setuptools in c:\\users\\ayu\\stockprediction\\.venv\\lib\\site-packages (from tensorflow) (57.4.0)\n",
      "Requirement already satisfied: six>=1.12.0 in c:\\users\\ayu\\stockprediction\\.venv\\lib\\site-packages (from tensorflow) (1.17.0)\n",
      "Requirement already satisfied: termcolor>=1.1.0 in c:\\users\\ayu\\stockprediction\\.venv\\lib\\site-packages (from tensorflow) (3.1.0)\n",
      "Requirement already satisfied: typing-extensions>=3.6.6 in c:\\users\\ayu\\stockprediction\\.venv\\lib\\site-packages (from tensorflow) (4.13.2)\n",
      "Requirement already satisfied: wrapt>=1.11.0 in c:\\users\\ayu\\stockprediction\\.venv\\lib\\site-packages (from tensorflow) (1.17.2)\n",
      "Requirement already satisfied: grpcio<2.0,>=1.24.3 in c:\\users\\ayu\\stockprediction\\.venv\\lib\\site-packages (from tensorflow) (1.71.0)\n",
      "Requirement already satisfied: tensorboard~=2.19.0 in c:\\users\\ayu\\stockprediction\\.venv\\lib\\site-packages (from tensorflow) (2.19.0)\n",
      "Requirement already satisfied: keras>=3.5.0 in c:\\users\\ayu\\stockprediction\\.venv\\lib\\site-packages (from tensorflow) (3.9.2)\n",
      "Requirement already satisfied: h5py>=3.11.0 in c:\\users\\ayu\\stockprediction\\.venv\\lib\\site-packages (from tensorflow) (3.13.0)\n",
      "Requirement already satisfied: ml-dtypes<1.0.0,>=0.5.1 in c:\\users\\ayu\\stockprediction\\.venv\\lib\\site-packages (from tensorflow) (0.5.1)\n",
      "Requirement already satisfied: tensorflow-io-gcs-filesystem>=0.23.1 in c:\\users\\ayu\\stockprediction\\.venv\\lib\\site-packages (from tensorflow) (0.31.0)\n",
      "Requirement already satisfied: charset-normalizer<4,>=2 in c:\\users\\ayu\\stockprediction\\.venv\\lib\\site-packages (from requests>=2.31->yfinance) (3.4.2)\n",
      "Requirement already satisfied: idna<4,>=2.5 in c:\\users\\ayu\\stockprediction\\.venv\\lib\\site-packages (from requests>=2.31->yfinance) (3.10)\n",
      "Requirement already satisfied: urllib3<3,>=1.21.1 in c:\\users\\ayu\\stockprediction\\.venv\\lib\\site-packages (from requests>=2.31->yfinance) (1.26.20)\n",
      "Requirement already satisfied: certifi>=2017.4.17 in c:\\users\\ayu\\stockprediction\\.venv\\lib\\site-packages (from requests>=2.31->yfinance) (2025.4.26)\n",
      "Requirement already satisfied: markdown>=2.6.8 in c:\\users\\ayu\\stockprediction\\.venv\\lib\\site-packages (from tensorboard~=2.19.0->tensorflow) (3.8)\n",
      "Requirement already satisfied: tensorboard-data-server<0.8.0,>=0.7.0 in c:\\users\\ayu\\stockprediction\\.venv\\lib\\site-packages (from tensorboard~=2.19.0->tensorflow) (0.7.2)\n",
      "Requirement already satisfied: werkzeug>=1.0.1 in c:\\users\\ayu\\stockprediction\\.venv\\lib\\site-packages (from tensorboard~=2.19.0->tensorflow) (3.1.3)\n",
      "Requirement already satisfied: scipy>=1.6.0 in c:\\users\\ayu\\stockprediction\\.venv\\lib\\site-packages (from scikit-learn) (1.15.2)\n",
      "Requirement already satisfied: threadpoolctl>=3.1.0 in c:\\users\\ayu\\stockprediction\\.venv\\lib\\site-packages (from scikit-learn) (3.6.0)\n",
      "Requirement already satisfied: requests-html in c:\\users\\ayu\\stockprediction\\.venv\\lib\\site-packages (from yahoo_fin) (0.10.0)\n",
      "Requirement already satisfied: feedparser in c:\\users\\ayu\\stockprediction\\.venv\\lib\\site-packages (from yahoo_fin) (6.0.11)\n",
      "Requirement already satisfied: dateparser in c:\\users\\ayu\\stockprediction\\.venv\\lib\\site-packages (from GoogleNews) (1.2.1)\n",
      "Requirement already satisfied: wheel<1.0,>=0.23.0 in c:\\users\\ayu\\stockprediction\\.venv\\lib\\site-packages (from astunparse>=1.6.0->tensorflow) (0.45.1)\n",
      "Requirement already satisfied: soupsieve>1.2 in c:\\users\\ayu\\stockprediction\\.venv\\lib\\site-packages (from beautifulsoup4>=4.11.1->yfinance) (2.7)\n",
      "Requirement already satisfied: cffi>=1.12.0 in c:\\users\\ayu\\stockprediction\\.venv\\lib\\site-packages (from curl_cffi>=0.7->yfinance) (1.17.1)\n",
      "Requirement already satisfied: pycparser in c:\\users\\ayu\\stockprediction\\.venv\\lib\\site-packages (from cffi>=1.12.0->curl_cffi>=0.7->yfinance) (2.22)\n",
      "Requirement already satisfied: rich in c:\\users\\ayu\\stockprediction\\.venv\\lib\\site-packages (from keras>=3.5.0->tensorflow) (14.0.0)\n",
      "Requirement already satisfied: namex in c:\\users\\ayu\\stockprediction\\.venv\\lib\\site-packages (from keras>=3.5.0->tensorflow) (0.0.9)\n",
      "Requirement already satisfied: optree in c:\\users\\ayu\\stockprediction\\.venv\\lib\\site-packages (from keras>=3.5.0->tensorflow) (0.15.0)\n",
      "Requirement already satisfied: MarkupSafe>=2.1.1 in c:\\users\\ayu\\stockprediction\\.venv\\lib\\site-packages (from werkzeug>=1.0.1->tensorboard~=2.19.0->tensorflow) (3.0.2)\n",
      "Requirement already satisfied: colorama in c:\\users\\ayu\\stockprediction\\.venv\\lib\\site-packages (from click->nltk) (0.4.6)\n",
      "Requirement already satisfied: tzlocal>=0.2 in c:\\users\\ayu\\stockprediction\\.venv\\lib\\site-packages (from dateparser->GoogleNews) (5.3.1)\n",
      "Requirement already satisfied: sgmllib3k in c:\\users\\ayu\\stockprediction\\.venv\\lib\\site-packages (from feedparser->yahoo_fin) (1.0.0)\n",
      "Requirement already satisfied: pyquery in c:\\users\\ayu\\stockprediction\\.venv\\lib\\site-packages (from requests-html->yahoo_fin) (2.0.1)\n",
      "Requirement already satisfied: fake-useragent in c:\\users\\ayu\\stockprediction\\.venv\\lib\\site-packages (from requests-html->yahoo_fin) (2.2.0)\n",
      "Requirement already satisfied: parse in c:\\users\\ayu\\stockprediction\\.venv\\lib\\site-packages (from requests-html->yahoo_fin) (1.20.2)\n",
      "Requirement already satisfied: bs4 in c:\\users\\ayu\\stockprediction\\.venv\\lib\\site-packages (from requests-html->yahoo_fin) (0.0.2)\n",
      "Requirement already satisfied: w3lib in c:\\users\\ayu\\stockprediction\\.venv\\lib\\site-packages (from requests-html->yahoo_fin) (2.3.1)\n",
      "Requirement already satisfied: pyppeteer>=0.0.14 in c:\\users\\ayu\\stockprediction\\.venv\\lib\\site-packages (from requests-html->yahoo_fin) (2.0.0)\n",
      "Requirement already satisfied: appdirs<2.0.0,>=1.4.3 in c:\\users\\ayu\\stockprediction\\.venv\\lib\\site-packages (from pyppeteer>=0.0.14->requests-html->yahoo_fin) (1.4.4)\n",
      "Requirement already satisfied: importlib-metadata>=1.4 in c:\\users\\ayu\\stockprediction\\.venv\\lib\\site-packages (from pyppeteer>=0.0.14->requests-html->yahoo_fin) (8.7.0)\n",
      "Requirement already satisfied: pyee<12.0.0,>=11.0.0 in c:\\users\\ayu\\stockprediction\\.venv\\lib\\site-packages (from pyppeteer>=0.0.14->requests-html->yahoo_fin) (11.1.1)\n",
      "Requirement already satisfied: websockets<11.0,>=10.0 in c:\\users\\ayu\\stockprediction\\.venv\\lib\\site-packages (from pyppeteer>=0.0.14->requests-html->yahoo_fin) (10.4)\n",
      "Requirement already satisfied: zipp>=3.20 in c:\\users\\ayu\\stockprediction\\.venv\\lib\\site-packages (from importlib-metadata>=1.4->pyppeteer>=0.0.14->requests-html->yahoo_fin) (3.21.0)\n",
      "Requirement already satisfied: lxml>=2.1 in c:\\users\\ayu\\stockprediction\\.venv\\lib\\site-packages (from pyquery->requests-html->yahoo_fin) (5.4.0)\n",
      "Requirement already satisfied: cssselect>=1.2.0 in c:\\users\\ayu\\stockprediction\\.venv\\lib\\site-packages (from pyquery->requests-html->yahoo_fin) (1.3.0)\n",
      "Requirement already satisfied: markdown-it-py>=2.2.0 in c:\\users\\ayu\\stockprediction\\.venv\\lib\\site-packages (from rich->keras>=3.5.0->tensorflow) (3.0.0)\n",
      "Requirement already satisfied: pygments<3.0.0,>=2.13.0 in c:\\users\\ayu\\stockprediction\\.venv\\lib\\site-packages (from rich->keras>=3.5.0->tensorflow) (2.19.1)\n",
      "Requirement already satisfied: mdurl~=0.1 in c:\\users\\ayu\\stockprediction\\.venv\\lib\\site-packages (from markdown-it-py>=2.2.0->rich->keras>=3.5.0->tensorflow) (0.1.2)\n",
      "Building wheels for collected packages: ta\n",
      "  Building wheel for ta (setup.py): started\n",
      "  Building wheel for ta (setup.py): finished with status 'done'\n",
      "  Created wheel for ta: filename=ta-0.11.0-py3-none-any.whl size=29437 sha256=99dff14bb88a34f1b8db9fa3115a8425e1a50d588ad720dea6128a7eb16128bb\n",
      "  Stored in directory: c:\\users\\ayu\\appdata\\local\\pip\\cache\\wheels\\5f\\67\\4f\\8a9f252836e053e532c6587a3230bc72a4deb16b03a829610b\n",
      "Successfully built ta\n",
      "Installing collected packages: ta\n",
      "Successfully installed ta-0.11.0\n",
      "Note: you may need to restart the kernel to use updated packages.\n"
     ]
    },
    {
     "name": "stderr",
     "output_type": "stream",
     "text": [
      "  DEPRECATION: Building 'ta' using the legacy setup.py bdist_wheel mechanism, which will be removed in a future version. pip 25.3 will enforce this behaviour change. A possible replacement is to use the standardized build interface by setting the `--use-pep517` option, (possibly combined with `--no-build-isolation`), or adding a `pyproject.toml` file to the source tree of 'ta'. Discussion can be found at https://github.com/pypa/pip/issues/6334\n"
     ]
    }
   ],
   "source": [
    "%pip install yfinance pandas numpy matplotlib seaborn nltk textblob tensorflow scikit-learn newsapi-python yahoo_fin GoogleNews ta \n"
   ]
  },
  {
   "cell_type": "code",
   "execution_count": 23,
   "id": "d8d35189",
   "metadata": {},
   "outputs": [],
   "source": [
    "import yfinance as yf\n",
    "import pandas as pd\n",
    "import numpy as np\n",
    "import matplotlib.pyplot as plt\n",
    "from textblob import TextBlob\n",
    "from sklearn.preprocessing import MinMaxScaler , StandardScaler\n",
    "from tensorflow.keras.models import Sequential\n",
    "from tensorflow.keras.layers import LSTM, Dense, Dropout , Bidirectional\n",
    "from GoogleNews import GoogleNews\n",
    "import datetime\n",
    "import ta\n",
    "from sklearn.metrics import mean_absolute_error, mean_squared_error, r2_score\n"
   ]
  },
  {
   "cell_type": "code",
   "execution_count": 2,
   "id": "b420e852",
   "metadata": {},
   "outputs": [
    {
     "name": "stdout",
     "output_type": "stream",
     "text": [
      "YF.download() has changed argument auto_adjust default to True\n"
     ]
    },
    {
     "name": "stderr",
     "output_type": "stream",
     "text": [
      "[*********************100%***********************]  1 of 1 completed\n"
     ]
    }
   ],
   "source": [
    "stock_data = yf.download('AAPL', start='2022-01-01', end='2024-01-01')[['Open', 'High', 'Low', 'Close', 'Volume']].copy()\n",
    "stock_data = stock_data.reset_index()\n",
    "stock_data.columns = ['date', 'Open', 'High', 'Low', 'Close', 'Volume']\n",
    "stock_data['date'] = pd.to_datetime(stock_data['date']).dt.date"
   ]
  },
  {
   "cell_type": "code",
   "execution_count": 7,
   "id": "fe5edf22",
   "metadata": {},
   "outputs": [],
   "source": [
    "stock_data_ta = stock_data.copy()\n",
    "stock_data_ta['SMA_20'] = ta.trend.sma_indicator(stock_data_ta['Close'], window=20)\n",
    "stock_data_ta['EMA_20'] = ta.trend.ema_indicator(stock_data_ta['Close'], window=20)\n",
    "stock_data_ta['RSI'] = ta.momentum.rsi(stock_data_ta['Close'], window=14)\n",
    "macd = ta.trend.macd_diff(stock_data_ta['Close'])\n",
    "stock_data_ta['MACD'] = macd\n",
    "bb = ta.volatility.BollingerBands(close=stock_data_ta['Close'], window=20)\n",
    "stock_data_ta['BB_upper'] = bb.bollinger_hband()\n",
    "stock_data_ta['BB_lower'] = bb.bollinger_lband()"
   ]
  },
  {
   "cell_type": "code",
   "execution_count": 9,
   "id": "0344854e",
   "metadata": {},
   "outputs": [],
   "source": [
    "# 2. Fetch news and calculate sentiment\n",
    "googlenews = GoogleNews(lang='en', period='30d')  # last 30 days\n",
    "googlenews.search('Apple stock')\n",
    "\n",
    "# for i in range(2, 6):\n",
    "#     googlenews.get_page(i)\n",
    "\n",
    "sentiments = []\n",
    "dates = []\n",
    "results = googlenews.results()\n",
    "\n",
    "for article in results:\n",
    "    text = article['title'] + '. ' + article.get('desc', '')\n",
    "    blob = TextBlob(text)\n",
    "    polarity = blob.sentiment.polarity\n",
    "    date_str = article.get('date', 'now')\n",
    "\n",
    "    try:\n",
    "        date_obj = datetime.datetime.strptime(date_str, '%b %d, %Y')\n",
    "    except:\n",
    "        date_obj = datetime.datetime.today()\n",
    "\n",
    "    sentiments.append(polarity)\n",
    "    dates.append(date_obj.date())\n",
    "\n",
    "sentiment_df = pd.DataFrame({'date': dates, 'sentiment': sentiments})\n",
    "sentiment_df = sentiment_df.groupby('date').mean().reset_index()\n",
    "sentiment_df['date'] = pd.to_datetime(sentiment_df['date']).dt.date\n"
   ]
  },
  {
   "cell_type": "code",
   "execution_count": 14,
   "id": "9480cca8",
   "metadata": {},
   "outputs": [
    {
     "name": "stderr",
     "output_type": "stream",
     "text": [
      "C:\\Users\\ayu\\AppData\\Local\\Temp\\ipykernel_9764\\2311362563.py:2: FutureWarning: Series.fillna with 'method' is deprecated and will raise in a future version. Use obj.ffill() or obj.bfill() instead.\n",
      "  merged['sentiment'] = merged['sentiment'].fillna(method='ffill').fillna(0)\n"
     ]
    }
   ],
   "source": [
    "merged = pd.merge(stock_data_ta, sentiment_df, on='date', how='left')\n",
    "merged['sentiment'] = merged['sentiment'].fillna(method='ffill').fillna(0)\n",
    "merged.set_index('date', inplace=True)\n",
    "merged.dropna(inplace=True)"
   ]
  },
  {
   "cell_type": "code",
   "execution_count": 28,
   "id": "c44c923c",
   "metadata": {},
   "outputs": [],
   "source": [
    "feature_cols = ['Open', 'High', 'Low', 'Close', 'Volume', 'SMA_20', 'EMA_20', 'RSI', 'MACD', 'BB_upper', 'BB_lower']\n",
    "price_scaler = MinMaxScaler()\n",
    "sentiment_scaler = StandardScaler()\n",
    "\n",
    "merged_scaled = price_scaler.fit_transform(merged[feature_cols])\n",
    "sentiment_scaled = sentiment_scaler.fit_transform(merged[['sentiment']])\n",
    "\n",
    "scaled = np.hstack((merged_scaled, sentiment_scaled))\n",
    "\n",
    "# 5. Create LSTM sequences\n",
    "def create_sequences(data, seq_len=60, step=1):\n",
    "    x, y = [], []\n",
    "    for i in range(seq_len, len(data), step):\n",
    "        x.append(data[i-seq_len:i])\n",
    "        y.append(data[i, 0])  # Predict Close_scaled\n",
    "    return np.array(x), np.array(y)\n",
    "\n",
    "x, y = create_sequences(scaled)"
   ]
  },
  {
   "cell_type": "code",
   "execution_count": 35,
   "id": "029ba672",
   "metadata": {},
   "outputs": [
    {
     "name": "stdout",
     "output_type": "stream",
     "text": [
      "\n",
      "🔍 Sequence Length: 30\n"
     ]
    },
    {
     "name": "stderr",
     "output_type": "stream",
     "text": [
      "c:\\Users\\ayu\\StockPrediction\\.venv\\lib\\site-packages\\keras\\src\\layers\\rnn\\bidirectional.py:107: UserWarning: Do not pass an `input_shape`/`input_dim` argument to a layer. When using Sequential models, prefer using an `Input(shape)` object as the first layer in the model instead.\n",
      "  super().__init__(**kwargs)\n"
     ]
    },
    {
     "name": "stdout",
     "output_type": "stream",
     "text": [
      "\u001b[1m1/1\u001b[0m \u001b[32m━━━━━━━━━━━━━━━━━━━━\u001b[0m\u001b[37m\u001b[0m \u001b[1m1s\u001b[0m 524ms/step\n"
     ]
    },
    {
     "name": "stderr",
     "output_type": "stream",
     "text": [
      "c:\\Users\\ayu\\StockPrediction\\.venv\\lib\\site-packages\\keras\\src\\layers\\rnn\\bidirectional.py:107: UserWarning: Do not pass an `input_shape`/`input_dim` argument to a layer. When using Sequential models, prefer using an `Input(shape)` object as the first layer in the model instead.\n",
      "  super().__init__(**kwargs)\n"
     ]
    },
    {
     "name": "stdout",
     "output_type": "stream",
     "text": [
      "\u001b[1m1/1\u001b[0m \u001b[32m━━━━━━━━━━━━━━━━━━━━\u001b[0m\u001b[37m\u001b[0m \u001b[1m1s\u001b[0m 574ms/step\n"
     ]
    },
    {
     "name": "stderr",
     "output_type": "stream",
     "text": [
      "c:\\Users\\ayu\\StockPrediction\\.venv\\lib\\site-packages\\keras\\src\\layers\\rnn\\bidirectional.py:107: UserWarning: Do not pass an `input_shape`/`input_dim` argument to a layer. When using Sequential models, prefer using an `Input(shape)` object as the first layer in the model instead.\n",
      "  super().__init__(**kwargs)\n"
     ]
    },
    {
     "name": "stdout",
     "output_type": "stream",
     "text": [
      "\u001b[1m1/1\u001b[0m \u001b[32m━━━━━━━━━━━━━━━━━━━━\u001b[0m\u001b[37m\u001b[0m \u001b[1m1s\u001b[0m 513ms/step\n"
     ]
    },
    {
     "name": "stderr",
     "output_type": "stream",
     "text": [
      "c:\\Users\\ayu\\StockPrediction\\.venv\\lib\\site-packages\\keras\\src\\layers\\rnn\\bidirectional.py:107: UserWarning: Do not pass an `input_shape`/`input_dim` argument to a layer. When using Sequential models, prefer using an `Input(shape)` object as the first layer in the model instead.\n",
      "  super().__init__(**kwargs)\n"
     ]
    },
    {
     "name": "stdout",
     "output_type": "stream",
     "text": [
      "\u001b[1m1/1\u001b[0m \u001b[32m━━━━━━━━━━━━━━━━━━━━\u001b[0m\u001b[37m\u001b[0m \u001b[1m1s\u001b[0m 569ms/step\n",
      "📊 Average MAE: 4.4711, RMSE: 4.9444, R²: -0.3822\n",
      "\n",
      "🔍 Sequence Length: 60\n"
     ]
    },
    {
     "name": "stderr",
     "output_type": "stream",
     "text": [
      "c:\\Users\\ayu\\StockPrediction\\.venv\\lib\\site-packages\\keras\\src\\layers\\rnn\\bidirectional.py:107: UserWarning: Do not pass an `input_shape`/`input_dim` argument to a layer. When using Sequential models, prefer using an `Input(shape)` object as the first layer in the model instead.\n",
      "  super().__init__(**kwargs)\n"
     ]
    },
    {
     "name": "stdout",
     "output_type": "stream",
     "text": [
      "\u001b[1m1/1\u001b[0m \u001b[32m━━━━━━━━━━━━━━━━━━━━\u001b[0m\u001b[37m\u001b[0m \u001b[1m1s\u001b[0m 678ms/step\n"
     ]
    },
    {
     "name": "stderr",
     "output_type": "stream",
     "text": [
      "c:\\Users\\ayu\\StockPrediction\\.venv\\lib\\site-packages\\keras\\src\\layers\\rnn\\bidirectional.py:107: UserWarning: Do not pass an `input_shape`/`input_dim` argument to a layer. When using Sequential models, prefer using an `Input(shape)` object as the first layer in the model instead.\n",
      "  super().__init__(**kwargs)\n"
     ]
    },
    {
     "name": "stdout",
     "output_type": "stream",
     "text": [
      "\u001b[1m1/1\u001b[0m \u001b[32m━━━━━━━━━━━━━━━━━━━━\u001b[0m\u001b[37m\u001b[0m \u001b[1m1s\u001b[0m 610ms/step\n"
     ]
    },
    {
     "name": "stderr",
     "output_type": "stream",
     "text": [
      "c:\\Users\\ayu\\StockPrediction\\.venv\\lib\\site-packages\\keras\\src\\layers\\rnn\\bidirectional.py:107: UserWarning: Do not pass an `input_shape`/`input_dim` argument to a layer. When using Sequential models, prefer using an `Input(shape)` object as the first layer in the model instead.\n",
      "  super().__init__(**kwargs)\n"
     ]
    },
    {
     "name": "stdout",
     "output_type": "stream",
     "text": [
      "\u001b[1m1/1\u001b[0m \u001b[32m━━━━━━━━━━━━━━━━━━━━\u001b[0m\u001b[37m\u001b[0m \u001b[1m1s\u001b[0m 511ms/step\n",
      "📊 Average MAE: 3.8446, RMSE: 4.3894, R²: 0.3806\n",
      "\n",
      "🔍 Sequence Length: 90\n"
     ]
    },
    {
     "name": "stderr",
     "output_type": "stream",
     "text": [
      "c:\\Users\\ayu\\StockPrediction\\.venv\\lib\\site-packages\\keras\\src\\layers\\rnn\\bidirectional.py:107: UserWarning: Do not pass an `input_shape`/`input_dim` argument to a layer. When using Sequential models, prefer using an `Input(shape)` object as the first layer in the model instead.\n",
      "  super().__init__(**kwargs)\n"
     ]
    },
    {
     "name": "stdout",
     "output_type": "stream",
     "text": [
      "\u001b[1m1/1\u001b[0m \u001b[32m━━━━━━━━━━━━━━━━━━━━\u001b[0m\u001b[37m\u001b[0m \u001b[1m1s\u001b[0m 559ms/step\n"
     ]
    },
    {
     "name": "stderr",
     "output_type": "stream",
     "text": [
      "c:\\Users\\ayu\\StockPrediction\\.venv\\lib\\site-packages\\keras\\src\\layers\\rnn\\bidirectional.py:107: UserWarning: Do not pass an `input_shape`/`input_dim` argument to a layer. When using Sequential models, prefer using an `Input(shape)` object as the first layer in the model instead.\n",
      "  super().__init__(**kwargs)\n"
     ]
    },
    {
     "name": "stdout",
     "output_type": "stream",
     "text": [
      "\u001b[1m1/1\u001b[0m \u001b[32m━━━━━━━━━━━━━━━━━━━━\u001b[0m\u001b[37m\u001b[0m \u001b[1m1s\u001b[0m 545ms/step\n",
      "📊 Average MAE: 4.4151, RMSE: 5.0430, R²: 0.2060\n"
     ]
    }
   ],
   "source": [
    "for seq_len in [30, 60, 90]:\n",
    "    print(f\"\\n🔍 Sequence Length: {seq_len}\")\n",
    "    x_all, y_all = create_sequences(scaled, seq_len=seq_len, step=1)\n",
    "\n",
    "    window_size = 300\n",
    "    step_size = 30\n",
    "    metrics = []\n",
    "\n",
    "    for start in range(0, len(x_all) - window_size - step_size, step_size):\n",
    "        x_train = x_all[start:start + window_size]\n",
    "        y_train = y_all[start:start + window_size]\n",
    "        x_test = x_all[start + window_size:start + window_size + step_size]\n",
    "        y_test = y_all[start + window_size:start + window_size + step_size]\n",
    "\n",
    "        model = Sequential()\n",
    "        model.add(Bidirectional(LSTM(units=50, return_sequences=True), input_shape=(x_train.shape[1], x_train.shape[2])))\n",
    "        model.add(Dropout(0.3))\n",
    "        model.add(Bidirectional(LSTM(units=50)))\n",
    "        model.add(Dropout(0.3))\n",
    "        model.add(Dense(1))\n",
    "\n",
    "        model.compile(optimizer='adam', loss='mean_squared_error')\n",
    "        model.fit(x_train, y_train, epochs=5, batch_size=32, verbose=0)\n",
    "\n",
    "        pred_scaled = model.predict(x_test)\n",
    "\n",
    "        # Proper inverse scaling\n",
    "        n_features = price_scaler.n_features_in_  # safer than scaled.shape[1]\n",
    "\n",
    "# Construct dummy columns\n",
    "        dummy_pred = np.zeros((len(pred_scaled), n_features - 1))\n",
    "        reconstructed_pred = np.concatenate([pred_scaled, dummy_pred], axis=1)\n",
    "        pred_inv = price_scaler.inverse_transform(reconstructed_pred)[:, 0]\n",
    "\n",
    "        # Same for y_test\n",
    "        dummy_y = np.zeros((len(y_test), n_features - 1))\n",
    "        reconstructed_y = np.concatenate([y_test.reshape(-1, 1), dummy_y], axis=1)\n",
    "        y_test_inv = price_scaler.inverse_transform(reconstructed_y)[:, 0]\n",
    "\n",
    "        mae = mean_absolute_error(y_test_inv, pred_inv)\n",
    "        rmse = np.sqrt(mean_squared_error(y_test_inv, pred_inv))\n",
    "        r2 = r2_score(y_test_inv, pred_inv)\n",
    "        metrics.append((mae, rmse, r2))\n",
    "\n",
    "    mean_mae = np.mean([m[0] for m in metrics])\n",
    "    mean_rmse = np.mean([m[1] for m in metrics])\n",
    "    mean_r2 = np.mean([m[2] for m in metrics])\n",
    "    print(f\"📊 Average MAE: {mean_mae:.4f}, RMSE: {mean_rmse:.4f}, R²: {mean_r2:.4f}\")\n"
   ]
  },
  {
   "cell_type": "code",
   "execution_count": 36,
   "id": "21091528",
   "metadata": {},
   "outputs": [
    {
     "name": "stdout",
     "output_type": "stream",
     "text": [
      "\u001b[1m1/1\u001b[0m \u001b[32m━━━━━━━━━━━━━━━━━━━━\u001b[0m\u001b[37m\u001b[0m \u001b[1m0s\u001b[0m 93ms/step\n"
     ]
    }
   ],
   "source": [
    "predictions = model.predict(x_test)\n",
    "close_scaler = MinMaxScaler()\n",
    "close_scaler.min_, close_scaler.scale_ = price_scaler.min_[3:4], price_scaler.scale_[3:4]  # only for Close\n",
    "predicted_price = close_scaler.inverse_transform(predictions)\n",
    "real_price = close_scaler.inverse_transform(y_test.reshape(-1, 1))"
   ]
  },
  {
   "cell_type": "code",
   "execution_count": 37,
   "id": "55b20401",
   "metadata": {},
   "outputs": [
    {
     "name": "stdout",
     "output_type": "stream",
     "text": [
      "Mean Absolute Error (MAE): 7.0918388172969635\n",
      "Mean Squared Error (MSE): 57.429277871925336\n",
      "Root Mean Squared Error (RMSE): 7.578210730240044\n",
      "R² Score: 0.24419324523746233\n"
     ]
    }
   ],
   "source": [
    "mae = mean_absolute_error(real_price, predicted_price)\n",
    "mse = mean_squared_error(real_price, predicted_price)\n",
    "rmse = np.sqrt(mse)\n",
    "r2 = r2_score(real_price, predicted_price)\n",
    "\n",
    "print(\"Mean Absolute Error (MAE):\", mae)\n",
    "print(\"Mean Squared Error (MSE):\", mse)\n",
    "print(\"Root Mean Squared Error (RMSE):\", rmse)\n",
    "print(\"R² Score:\", r2)"
   ]
  },
  {
   "cell_type": "code",
   "execution_count": 38,
   "id": "45eeff23",
   "metadata": {},
   "outputs": [
    {
     "data": {
      "image/png": "[encoded data removed]",
      "text/plain": [
       "<Figure size 1400x500 with 1 Axes>"
      ]
     },
     "metadata": {},
     "output_type": "display_data"
    }
   ],
   "source": [
    "plt.figure(figsize=(14,5))\n",
    "plt.plot(real_price, color='blue', label='Actual Price')\n",
    "plt.plot(predicted_price, color='red', label='Predicted Price')\n",
    "plt.legend()\n",
    "plt.title('Stock Price Prediction with Sentiment & Indicators')\n",
    "plt.xlabel('Time')\n",
    "plt.ylabel('Price')\n",
    "plt.show()"
   ]
  },
  {
   "cell_type": "code",
   "execution_count": null,
   "id": "a4c436b7",
   "metadata": {},
   "outputs": [
    {
     "ename": "NameError",
     "evalue": "name 'scaled_data' is not defined",
     "output_type": "error",
     "traceback": [
      "\u001b[1;31m---------------------------------------------------------------------------\u001b[0m",
      "\u001b[1;31mNameError\u001b[0m                                 Traceback (most recent call last)",
      "Cell \u001b[1;32mIn[20], line 1\u001b[0m\n\u001b[1;32m----> 1\u001b[0m combined_data \u001b[38;5;241m=\u001b[39m np\u001b[38;5;241m.\u001b[39mconcatenate((\u001b[43mscaled_data\u001b[49m, sentiment_array), axis\u001b[38;5;241m=\u001b[39m\u001b[38;5;241m1\u001b[39m)\n",
      "\u001b[1;31mNameError\u001b[0m: name 'scaled_data' is not defined"
     ]
    }
   ],
   "source": []
  },
  {
   "cell_type": "code",
   "execution_count": null,
   "id": "673b5d61",
   "metadata": {},
   "outputs": [],
   "source": []
  }
 ],
 "metadata": {
  "kernelspec": {
   "display_name": ".venv",
   "language": "python",
   "name": "python3"
  },
  "language_info": {
   "codemirror_mode": {
    "name": "ipython",
    "version": 3
   },
   "file_extension": ".py",
   "mimetype": "text/x-python",
   "name": "python",
   "nbconvert_exporter": "python",
   "pygments_lexer": "ipython3",
   "version": "3.10.0"
  }
 },
 "nbformat": 4,
 "nbformat_minor": 5
}
