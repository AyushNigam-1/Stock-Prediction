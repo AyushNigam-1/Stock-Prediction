{
 "cells": [
  {
   "cell_type": "code",
   "execution_count": 9,
   "id": "98fbe969",
   "metadata": {},
   "outputs": [
    {
     "name": "stdout",
     "output_type": "stream",
     "text": [
      "Requirement already satisfied: yfinance in c:\\users\\ayu\\stockprediction\\.venv\\lib\\site-packages (0.2.58)\n",
      "Requirement already satisfied: pandas in c:\\users\\ayu\\stockprediction\\.venv\\lib\\site-packages (2.2.3)\n",
      "Requirement already satisfied: numpy in c:\\users\\ayu\\stockprediction\\.venv\\lib\\site-packages (2.1.3)\n",
      "Requirement already satisfied: matplotlib in c:\\users\\ayu\\stockprediction\\.venv\\lib\\site-packages (3.10.1)\n",
      "Requirement already satisfied: seaborn in c:\\users\\ayu\\stockprediction\\.venv\\lib\\site-packages (0.13.2)\n",
      "Requirement already satisfied: nltk in c:\\users\\ayu\\stockprediction\\.venv\\lib\\site-packages (3.9.1)\n",
      "Requirement already satisfied: textblob in c:\\users\\ayu\\stockprediction\\.venv\\lib\\site-packages (0.19.0)\n",
      "Requirement already satisfied: tensorflow in c:\\users\\ayu\\stockprediction\\.venv\\lib\\site-packages (2.19.0)\n",
      "Requirement already satisfied: scikit-learn in c:\\users\\ayu\\stockprediction\\.venv\\lib\\site-packages (1.6.1)\n",
      "Requirement already satisfied: newsapi-python in c:\\users\\ayu\\stockprediction\\.venv\\lib\\site-packages (0.2.7)\n",
      "Requirement already satisfied: yahoo_fin in c:\\users\\ayu\\stockprediction\\.venv\\lib\\site-packages (0.8.9.1)\n",
      "Collecting GoogleNews\n",
      "  Downloading GoogleNews-1.6.15-py3-none-any.whl.metadata (4.5 kB)\n",
      "Requirement already satisfied: requests>=2.31 in c:\\users\\ayu\\stockprediction\\.venv\\lib\\site-packages (from yfinance) (2.32.3)\n",
      "Requirement already satisfied: multitasking>=0.0.7 in c:\\users\\ayu\\stockprediction\\.venv\\lib\\site-packages (from yfinance) (0.0.11)\n",
      "Requirement already satisfied: platformdirs>=2.0.0 in c:\\users\\ayu\\stockprediction\\.venv\\lib\\site-packages (from yfinance) (4.3.7)\n",
      "Requirement already satisfied: pytz>=2022.5 in c:\\users\\ayu\\stockprediction\\.venv\\lib\\site-packages (from yfinance) (2025.2)\n",
      "Requirement already satisfied: frozendict>=2.3.4 in c:\\users\\ayu\\stockprediction\\.venv\\lib\\site-packages (from yfinance) (2.4.6)\n",
      "Requirement already satisfied: peewee>=3.16.2 in c:\\users\\ayu\\stockprediction\\.venv\\lib\\site-packages (from yfinance) (3.18.1)\n",
      "Requirement already satisfied: beautifulsoup4>=4.11.1 in c:\\users\\ayu\\stockprediction\\.venv\\lib\\site-packages (from yfinance) (4.13.4)\n",
      "Requirement already satisfied: curl_cffi>=0.7 in c:\\users\\ayu\\stockprediction\\.venv\\lib\\site-packages (from yfinance) (0.10.0)\n",
      "Requirement already satisfied: python-dateutil>=2.8.2 in c:\\users\\ayu\\stockprediction\\.venv\\lib\\site-packages (from pandas) (2.9.0.post0)\n",
      "Requirement already satisfied: tzdata>=2022.7 in c:\\users\\ayu\\stockprediction\\.venv\\lib\\site-packages (from pandas) (2025.2)\n",
      "Requirement already satisfied: contourpy>=1.0.1 in c:\\users\\ayu\\stockprediction\\.venv\\lib\\site-packages (from matplotlib) (1.3.2)\n",
      "Requirement already satisfied: cycler>=0.10 in c:\\users\\ayu\\stockprediction\\.venv\\lib\\site-packages (from matplotlib) (0.12.1)\n",
      "Requirement already satisfied: fonttools>=4.22.0 in c:\\users\\ayu\\stockprediction\\.venv\\lib\\site-packages (from matplotlib) (4.57.0)\n",
      "Requirement already satisfied: kiwisolver>=1.3.1 in c:\\users\\ayu\\stockprediction\\.venv\\lib\\site-packages (from matplotlib) (1.4.8)\n",
      "Requirement already satisfied: packaging>=20.0 in c:\\users\\ayu\\stockprediction\\.venv\\lib\\site-packages (from matplotlib) (25.0)\n",
      "Requirement already satisfied: pillow>=8 in c:\\users\\ayu\\stockprediction\\.venv\\lib\\site-packages (from matplotlib) (11.2.1)\n",
      "Requirement already satisfied: pyparsing>=2.3.1 in c:\\users\\ayu\\stockprediction\\.venv\\lib\\site-packages (from matplotlib) (3.2.3)\n",
      "Requirement already satisfied: click in c:\\users\\ayu\\stockprediction\\.venv\\lib\\site-packages (from nltk) (8.1.8)\n",
      "Requirement already satisfied: joblib in c:\\users\\ayu\\stockprediction\\.venv\\lib\\site-packages (from nltk) (1.5.0)\n",
      "Requirement already satisfied: regex>=2021.8.3 in c:\\users\\ayu\\stockprediction\\.venv\\lib\\site-packages (from nltk) (2024.11.6)\n",
      "Requirement already satisfied: tqdm in c:\\users\\ayu\\stockprediction\\.venv\\lib\\site-packages (from nltk) (4.67.1)\n",
      "Requirement already satisfied: absl-py>=1.0.0 in c:\\users\\ayu\\stockprediction\\.venv\\lib\\site-packages (from tensorflow) (2.2.2)\n",
      "Requirement already satisfied: astunparse>=1.6.0 in c:\\users\\ayu\\stockprediction\\.venv\\lib\\site-packages (from tensorflow) (1.6.3)\n",
      "Requirement already satisfied: flatbuffers>=24.3.25 in c:\\users\\ayu\\stockprediction\\.venv\\lib\\site-packages (from tensorflow) (25.2.10)\n",
      "Requirement already satisfied: gast!=0.5.0,!=0.5.1,!=0.5.2,>=0.2.1 in c:\\users\\ayu\\stockprediction\\.venv\\lib\\site-packages (from tensorflow) (0.6.0)\n",
      "Requirement already satisfied: google-pasta>=0.1.1 in c:\\users\\ayu\\stockprediction\\.venv\\lib\\site-packages (from tensorflow) (0.2.0)\n",
      "Requirement already satisfied: libclang>=13.0.0 in c:\\users\\ayu\\stockprediction\\.venv\\lib\\site-packages (from tensorflow) (18.1.1)\n",
      "Requirement already satisfied: opt-einsum>=2.3.2 in c:\\users\\ayu\\stockprediction\\.venv\\lib\\site-packages (from tensorflow) (3.4.0)\n",
      "Requirement already satisfied: protobuf!=4.21.0,!=4.21.1,!=4.21.2,!=4.21.3,!=4.21.4,!=4.21.5,<6.0.0dev,>=3.20.3 in c:\\users\\ayu\\stockprediction\\.venv\\lib\\site-packages (from tensorflow) (5.29.4)\n",
      "Requirement already satisfied: setuptools in c:\\users\\ayu\\stockprediction\\.venv\\lib\\site-packages (from tensorflow) (57.4.0)\n",
      "Requirement already satisfied: six>=1.12.0 in c:\\users\\ayu\\stockprediction\\.venv\\lib\\site-packages (from tensorflow) (1.17.0)\n",
      "Requirement already satisfied: termcolor>=1.1.0 in c:\\users\\ayu\\stockprediction\\.venv\\lib\\site-packages (from tensorflow) (3.1.0)\n",
      "Requirement already satisfied: typing-extensions>=3.6.6 in c:\\users\\ayu\\stockprediction\\.venv\\lib\\site-packages (from tensorflow) (4.13.2)\n",
      "Requirement already satisfied: wrapt>=1.11.0 in c:\\users\\ayu\\stockprediction\\.venv\\lib\\site-packages (from tensorflow) (1.17.2)\n",
      "Requirement already satisfied: grpcio<2.0,>=1.24.3 in c:\\users\\ayu\\stockprediction\\.venv\\lib\\site-packages (from tensorflow) (1.71.0)\n",
      "Requirement already satisfied: tensorboard~=2.19.0 in c:\\users\\ayu\\stockprediction\\.venv\\lib\\site-packages (from tensorflow) (2.19.0)\n",
      "Requirement already satisfied: keras>=3.5.0 in c:\\users\\ayu\\stockprediction\\.venv\\lib\\site-packages (from tensorflow) (3.9.2)\n",
      "Requirement already satisfied: h5py>=3.11.0 in c:\\users\\ayu\\stockprediction\\.venv\\lib\\site-packages (from tensorflow) (3.13.0)\n",
      "Requirement already satisfied: ml-dtypes<1.0.0,>=0.5.1 in c:\\users\\ayu\\stockprediction\\.venv\\lib\\site-packages (from tensorflow) (0.5.1)\n",
      "Requirement already satisfied: tensorflow-io-gcs-filesystem>=0.23.1 in c:\\users\\ayu\\stockprediction\\.venv\\lib\\site-packages (from tensorflow) (0.31.0)\n",
      "Requirement already satisfied: charset-normalizer<4,>=2 in c:\\users\\ayu\\stockprediction\\.venv\\lib\\site-packages (from requests>=2.31->yfinance) (3.4.2)\n",
      "Requirement already satisfied: idna<4,>=2.5 in c:\\users\\ayu\\stockprediction\\.venv\\lib\\site-packages (from requests>=2.31->yfinance) (3.10)\n",
      "Requirement already satisfied: urllib3<3,>=1.21.1 in c:\\users\\ayu\\stockprediction\\.venv\\lib\\site-packages (from requests>=2.31->yfinance) (1.26.20)\n",
      "Requirement already satisfied: certifi>=2017.4.17 in c:\\users\\ayu\\stockprediction\\.venv\\lib\\site-packages (from requests>=2.31->yfinance) (2025.4.26)\n",
      "Requirement already satisfied: markdown>=2.6.8 in c:\\users\\ayu\\stockprediction\\.venv\\lib\\site-packages (from tensorboard~=2.19.0->tensorflow) (3.8)\n",
      "Requirement already satisfied: tensorboard-data-server<0.8.0,>=0.7.0 in c:\\users\\ayu\\stockprediction\\.venv\\lib\\site-packages (from tensorboard~=2.19.0->tensorflow) (0.7.2)\n",
      "Requirement already satisfied: werkzeug>=1.0.1 in c:\\users\\ayu\\stockprediction\\.venv\\lib\\site-packages (from tensorboard~=2.19.0->tensorflow) (3.1.3)\n",
      "Requirement already satisfied: scipy>=1.6.0 in c:\\users\\ayu\\stockprediction\\.venv\\lib\\site-packages (from scikit-learn) (1.15.2)\n",
      "Requirement already satisfied: threadpoolctl>=3.1.0 in c:\\users\\ayu\\stockprediction\\.venv\\lib\\site-packages (from scikit-learn) (3.6.0)\n",
      "Requirement already satisfied: requests-html in c:\\users\\ayu\\stockprediction\\.venv\\lib\\site-packages (from yahoo_fin) (0.10.0)\n",
      "Requirement already satisfied: feedparser in c:\\users\\ayu\\stockprediction\\.venv\\lib\\site-packages (from yahoo_fin) (6.0.11)\n",
      "Collecting dateparser (from GoogleNews)\n",
      "  Downloading dateparser-1.2.1-py3-none-any.whl.metadata (29 kB)\n",
      "Requirement already satisfied: wheel<1.0,>=0.23.0 in c:\\users\\ayu\\stockprediction\\.venv\\lib\\site-packages (from astunparse>=1.6.0->tensorflow) (0.45.1)\n",
      "Requirement already satisfied: soupsieve>1.2 in c:\\users\\ayu\\stockprediction\\.venv\\lib\\site-packages (from beautifulsoup4>=4.11.1->yfinance) (2.7)\n",
      "Requirement already satisfied: cffi>=1.12.0 in c:\\users\\ayu\\stockprediction\\.venv\\lib\\site-packages (from curl_cffi>=0.7->yfinance) (1.17.1)\n",
      "Requirement already satisfied: pycparser in c:\\users\\ayu\\stockprediction\\.venv\\lib\\site-packages (from cffi>=1.12.0->curl_cffi>=0.7->yfinance) (2.22)\n",
      "Requirement already satisfied: rich in c:\\users\\ayu\\stockprediction\\.venv\\lib\\site-packages (from keras>=3.5.0->tensorflow) (14.0.0)\n",
      "Requirement already satisfied: namex in c:\\users\\ayu\\stockprediction\\.venv\\lib\\site-packages (from keras>=3.5.0->tensorflow) (0.0.9)\n",
      "Requirement already satisfied: optree in c:\\users\\ayu\\stockprediction\\.venv\\lib\\site-packages (from keras>=3.5.0->tensorflow) (0.15.0)\n",
      "Requirement already satisfied: MarkupSafe>=2.1.1 in c:\\users\\ayu\\stockprediction\\.venv\\lib\\site-packages (from werkzeug>=1.0.1->tensorboard~=2.19.0->tensorflow) (3.0.2)\n",
      "Requirement already satisfied: colorama in c:\\users\\ayu\\stockprediction\\.venv\\lib\\site-packages (from click->nltk) (0.4.6)\n",
      "Collecting tzlocal>=0.2 (from dateparser->GoogleNews)\n",
      "  Downloading tzlocal-5.3.1-py3-none-any.whl.metadata (7.6 kB)\n",
      "Requirement already satisfied: sgmllib3k in c:\\users\\ayu\\stockprediction\\.venv\\lib\\site-packages (from feedparser->yahoo_fin) (1.0.0)\n",
      "Requirement already satisfied: pyquery in c:\\users\\ayu\\stockprediction\\.venv\\lib\\site-packages (from requests-html->yahoo_fin) (2.0.1)\n",
      "Requirement already satisfied: fake-useragent in c:\\users\\ayu\\stockprediction\\.venv\\lib\\site-packages (from requests-html->yahoo_fin) (2.2.0)\n",
      "Requirement already satisfied: parse in c:\\users\\ayu\\stockprediction\\.venv\\lib\\site-packages (from requests-html->yahoo_fin) (1.20.2)\n",
      "Requirement already satisfied: bs4 in c:\\users\\ayu\\stockprediction\\.venv\\lib\\site-packages (from requests-html->yahoo_fin) (0.0.2)\n",
      "Requirement already satisfied: w3lib in c:\\users\\ayu\\stockprediction\\.venv\\lib\\site-packages (from requests-html->yahoo_fin) (2.3.1)\n",
      "Requirement already satisfied: pyppeteer>=0.0.14 in c:\\users\\ayu\\stockprediction\\.venv\\lib\\site-packages (from requests-html->yahoo_fin) (2.0.0)\n",
      "Requirement already satisfied: appdirs<2.0.0,>=1.4.3 in c:\\users\\ayu\\stockprediction\\.venv\\lib\\site-packages (from pyppeteer>=0.0.14->requests-html->yahoo_fin) (1.4.4)\n",
      "Requirement already satisfied: importlib-metadata>=1.4 in c:\\users\\ayu\\stockprediction\\.venv\\lib\\site-packages (from pyppeteer>=0.0.14->requests-html->yahoo_fin) (8.7.0)\n",
      "Requirement already satisfied: pyee<12.0.0,>=11.0.0 in c:\\users\\ayu\\stockprediction\\.venv\\lib\\site-packages (from pyppeteer>=0.0.14->requests-html->yahoo_fin) (11.1.1)\n",
      "Requirement already satisfied: websockets<11.0,>=10.0 in c:\\users\\ayu\\stockprediction\\.venv\\lib\\site-packages (from pyppeteer>=0.0.14->requests-html->yahoo_fin) (10.4)\n",
      "Requirement already satisfied: zipp>=3.20 in c:\\users\\ayu\\stockprediction\\.venv\\lib\\site-packages (from importlib-metadata>=1.4->pyppeteer>=0.0.14->requests-html->yahoo_fin) (3.21.0)\n",
      "Requirement already satisfied: lxml>=2.1 in c:\\users\\ayu\\stockprediction\\.venv\\lib\\site-packages (from pyquery->requests-html->yahoo_fin) (5.4.0)\n",
      "Requirement already satisfied: cssselect>=1.2.0 in c:\\users\\ayu\\stockprediction\\.venv\\lib\\site-packages (from pyquery->requests-html->yahoo_fin) (1.3.0)\n",
      "Requirement already satisfied: markdown-it-py>=2.2.0 in c:\\users\\ayu\\stockprediction\\.venv\\lib\\site-packages (from rich->keras>=3.5.0->tensorflow) (3.0.0)\n",
      "Requirement already satisfied: pygments<3.0.0,>=2.13.0 in c:\\users\\ayu\\stockprediction\\.venv\\lib\\site-packages (from rich->keras>=3.5.0->tensorflow) (2.19.1)\n",
      "Requirement already satisfied: mdurl~=0.1 in c:\\users\\ayu\\stockprediction\\.venv\\lib\\site-packages (from markdown-it-py>=2.2.0->rich->keras>=3.5.0->tensorflow) (0.1.2)\n",
      "Downloading GoogleNews-1.6.15-py3-none-any.whl (8.8 kB)\n",
      "Downloading dateparser-1.2.1-py3-none-any.whl (295 kB)\n",
      "Downloading tzlocal-5.3.1-py3-none-any.whl (18 kB)\n",
      "Installing collected packages: tzlocal, dateparser, GoogleNews\n",
      "\n",
      "   ------------- -------------------------- 1/3 [dateparser]\n",
      "   ------------- -------------------------- 1/3 [dateparser]\n",
      "   ------------- -------------------------- 1/3 [dateparser]\n",
      "   ------------- -------------------------- 1/3 [dateparser]\n",
      "   ------------- -------------------------- 1/3 [dateparser]\n",
      "   ------------- -------------------------- 1/3 [dateparser]\n",
      "   ------------- -------------------------- 1/3 [dateparser]\n",
      "   ------------- -------------------------- 1/3 [dateparser]\n",
      "   ------------- -------------------------- 1/3 [dateparser]\n",
      "   ------------- -------------------------- 1/3 [dateparser]\n",
      "   ------------- -------------------------- 1/3 [dateparser]\n",
      "   ------------- -------------------------- 1/3 [dateparser]\n",
      "   ------------- -------------------------- 1/3 [dateparser]\n",
      "   ------------- -------------------------- 1/3 [dateparser]\n",
      "   ------------- -------------------------- 1/3 [dateparser]\n",
      "   ------------- -------------------------- 1/3 [dateparser]\n",
      "   ------------- -------------------------- 1/3 [dateparser]\n",
      "   ------------- -------------------------- 1/3 [dateparser]\n",
      "   ------------- -------------------------- 1/3 [dateparser]\n",
      "   ---------------------------------------- 3/3 [GoogleNews]\n",
      "\n",
      "Successfully installed GoogleNews-1.6.15 dateparser-1.2.1 tzlocal-5.3.1\n",
      "Note: you may need to restart the kernel to use updated packages.\n"
     ]
    }
   ],
   "source": [
    "%pip install yfinance pandas numpy matplotlib seaborn nltk textblob tensorflow scikit-learn newsapi-python yahoo_fin GoogleNews\n"
   ]
  },
  {
   "cell_type": "code",
   "execution_count": 2,
   "id": "d8d35189",
   "metadata": {},
   "outputs": [],
   "source": [
    "import yfinance as yf\n",
    "import pandas as pd\n",
    "import numpy as np\n",
    "import matplotlib.pyplot as plt\n",
    "from textblob import TextBlob\n",
    "from sklearn.preprocessing import MinMaxScaler\n",
    "from tensorflow.keras.models import Sequential\n",
    "from tensorflow.keras.layers import LSTM, Dense, Dropout\n"
   ]
  },
  {
   "cell_type": "code",
   "execution_count": 3,
   "id": "b420e852",
   "metadata": {},
   "outputs": [
    {
     "name": "stdout",
     "output_type": "stream",
     "text": [
      "YF.download() has changed argument auto_adjust default to True\n"
     ]
    },
    {
     "name": "stderr",
     "output_type": "stream",
     "text": [
      "Failed to get ticker 'AAPL' reason: Failed to perform, curl: (28) Resolving timed out after 10006 milliseconds. See https://curl.se/libcurl/c/libcurl-errors.html first for more details.\n",
      "[*********************100%***********************]  1 of 1 completed\n"
     ]
    }
   ],
   "source": [
    "data = yf.download('AAPL', start='2015-01-01', end='2024-01-01')\n",
    "data = data[['Close']]\n",
    "data.dropna(inplace=True)\n"
   ]
  },
  {
   "cell_type": "code",
   "execution_count": 10,
   "id": "0344854e",
   "metadata": {},
   "outputs": [
    {
     "name": "stdout",
     "output_type": "stream",
     "text": [
      "<urlopen error [Errno 11001] getaddrinfo failed>\n",
      "Empty DataFrame\n",
      "Columns: [date, sentiment]\n",
      "Index: []\n"
     ]
    }
   ],
   "source": [
    "from GoogleNews import GoogleNews\n",
    "from textblob import TextBlob\n",
    "import pandas as pd\n",
    "import datetime\n",
    "\n",
    "# Initialize GoogleNews\n",
    "googlenews = GoogleNews(lang='en', period='7d')  # last 7 days\n",
    "googlenews.search('Apple stock')\n",
    "\n",
    "# Get results\n",
    "results = googlenews.results()\n",
    "\n",
    "sentiments = []\n",
    "dates = []\n",
    "\n",
    "for article in results:\n",
    "    text = article['title'] + '. ' + article.get('desc', '')\n",
    "    blob = TextBlob(text)\n",
    "    sentiments.append(blob.sentiment.polarity)\n",
    "\n",
    "    date_str = article.get('date', 'now')\n",
    "    try:\n",
    "        date_obj = datetime.datetime.strptime(date_str, '%b %d, %Y')\n",
    "    except:\n",
    "        date_obj = datetime.datetime.today()\n",
    "    dates.append(date_obj.date())\n",
    "\n",
    "# Create DataFrame\n",
    "sentiment_df = pd.DataFrame({\n",
    "    'date': dates,\n",
    "    'sentiment': sentiments\n",
    "})\n",
    "\n",
    "# Group by date and calculate average sentiment\n",
    "sentiment_df = sentiment_df.groupby('date').mean().reset_index()\n",
    "print(sentiment_df)\n"
   ]
  },
  {
   "cell_type": "code",
   "execution_count": null,
   "id": "21091528",
   "metadata": {},
   "outputs": [],
   "source": []
  },
  {
   "cell_type": "code",
   "execution_count": null,
   "id": "45eeff23",
   "metadata": {},
   "outputs": [],
   "source": []
  },
  {
   "cell_type": "code",
   "execution_count": null,
   "id": "673b5d61",
   "metadata": {},
   "outputs": [],
   "source": []
  }
 ],
 "metadata": {
  "kernelspec": {
   "display_name": "Python (StockPrediction)",
   "language": "python",
   "name": "stock-env"
  },
  "language_info": {
   "codemirror_mode": {
    "name": "ipython",
    "version": 3
   },
   "file_extension": ".py",
   "mimetype": "text/x-python",
   "name": "python",
   "nbconvert_exporter": "python",
   "pygments_lexer": "ipython3",
   "version": "3.10.0"
  }
 },
 "nbformat": 4,
 "nbformat_minor": 5
}
